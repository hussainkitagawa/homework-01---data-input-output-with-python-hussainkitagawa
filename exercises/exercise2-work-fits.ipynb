{
 "cells": [
  {
   "cell_type": "markdown",
   "metadata": {},
   "source": [
    "Department of Physics, University of Pisa (AA 2022-2023)\n",
    "\n",
    "### Multimessenger Physics Laboratory tutorial series\n",
    "\n",
    "\n",
    "\n",
    "## Exercise 2 - Reading and manipulating FITS files\n",
    "#### (M. Razzano, Feb 10, 2023)\n",
    "\n",
    "In this exercise you will have to read and manipulate a file coming from the second catalog of gamma-ray pulsars observed by the Fermi Large Area Telescope. \n",
    "For your information, you can find more details (not fundamental for this exercise) at this page:\n",
    "https://fermi.gsfc.nasa.gov/ssc/data/access/lat/2nd_PSR_catalog/"
   ]
  },
  {
   "cell_type": "markdown",
   "metadata": {},
   "source": [
    "### Basic Setup\n",
    "In the cell below you should import the modules that you think you will require..."
   ]
  },
  {
   "cell_type": "code",
   "execution_count": null,
   "metadata": {},
   "outputs": [],
   "source": []
  },
  {
   "cell_type": "markdown",
   "metadata": {},
   "source": [
    "### Open and explore  data file\n",
    "\n",
    "The file, named *2PC_catalog_v04.fits*, is already in the data directory. Define a work, data and results directories, and open the file\n",
    "Open it and look how many HDUs there are. Select the HDU1 (PULSAR_CATALOG). How many entries are in the header? How many likes contains the table?"
   ]
  },
  {
   "cell_type": "code",
   "execution_count": null,
   "metadata": {},
   "outputs": [],
   "source": []
  },
  {
   "cell_type": "markdown",
   "metadata": {},
   "source": [
    "### Extract information from the catalog\n",
    "\n",
    "On the HDU of the catalog, what are the column names? How many pulsars with period less than 20 milliseconds (Millisecond pulsars, MSPs) are in the catalog?"
   ]
  },
  {
   "cell_type": "code",
   "execution_count": null,
   "metadata": {},
   "outputs": [],
   "source": []
  },
  {
   "cell_type": "markdown",
   "metadata": {},
   "source": [
    "### Plot the sky distribution\n",
    "\n",
    "Can you plot the sky distriution in galactic coordinates (GLAT, GLON)? You can use the Aitoff projections to make a fancier plot (See https://matplotlib.org/3.1.0/gallery/subplots_axes_and_figures/geo_demo.html).\n",
    "Can you plot with 2 different colors the pulsars with periods greater than 10 milliseconds and the MSPs?\n"
   ]
  },
  {
   "cell_type": "code",
   "execution_count": null,
   "metadata": {},
   "outputs": [],
   "source": []
  },
  {
   "cell_type": "markdown",
   "metadata": {},
   "source": [
    "### Plot some distributions\n",
    "\n",
    "Of course, can you also plot histograms showing the luminosity distribution (also in log scale, or the period (also in log scale)?"
   ]
  },
  {
   "cell_type": "code",
   "execution_count": null,
   "metadata": {},
   "outputs": [],
   "source": []
  },
  {
   "cell_type": "markdown",
   "metadata": {},
   "source": [
    "### Plot the P-Pdot diagram\n",
    "\n",
    "Another very interesting plot is the scatter plot (in log scale) of the period (x axis) vs period first derivative (y axis). This P-Pdot diagram gives very useful information about the pulsars distribution, as you will see soon. Can you plot in this diagram, using 2 different colors for the MSPs and \"regular\" pulsars?"
   ]
  },
  {
   "cell_type": "markdown",
   "metadata": {},
   "source": [
    "### Save in an output file\n",
    "You can use the *plt.savefig* function to save the plots that you have done. Please remember to save in the \"results\" directory"
   ]
  },
  {
   "cell_type": "code",
   "execution_count": null,
   "metadata": {},
   "outputs": [],
   "source": []
  },
  {
   "cell_type": "markdown",
   "metadata": {},
   "source": [
    "### Final steps\n",
    "Congratulations! Don't forget to save to Github (using git commit + git push)"
   ]
  },
  {
   "cell_type": "code",
   "execution_count": null,
   "metadata": {},
   "outputs": [],
   "source": []
  }
 ],
 "metadata": {
  "colab": {
   "name": "exercise1-read-csv.ipynb",
   "provenance": []
  },
  "kernelspec": {
   "display_name": "Python 3 (ipykernel)",
   "language": "python",
   "name": "python3"
  },
  "language_info": {
   "codemirror_mode": {
    "name": "ipython",
    "version": 3
   },
   "file_extension": ".py",
   "mimetype": "text/x-python",
   "name": "python",
   "nbconvert_exporter": "python",
   "pygments_lexer": "ipython3",
   "version": "3.8.16"
  }
 },
 "nbformat": 4,
 "nbformat_minor": 4
}
