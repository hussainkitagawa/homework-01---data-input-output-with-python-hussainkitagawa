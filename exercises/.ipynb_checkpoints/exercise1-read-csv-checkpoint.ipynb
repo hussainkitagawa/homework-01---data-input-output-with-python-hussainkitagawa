{
 "cells": [
  {
   "cell_type": "markdown",
   "metadata": {},
   "source": [
    "Department of Physics, University of Pisa (AA 2022-2023)\n",
    "\n",
    "### Multimessenger Physics Laboratory tutorial series\n",
    "\n",
    "\n",
    "\n",
    "## Exercise 1 - Reading and manipulating CSV files\n",
    "#### (M. Razzano, Feb 10, 2023)\n",
    "\n",
    "In this exercise you will have to read and manipulate a file coming from the Exoplanet catalog"
   ]
  },
  {
   "cell_type": "markdown",
   "metadata": {},
   "source": [
    "### Basic Setup\n",
    "In the cell below you should import the modules that you think you will require..."
   ]
  },
  {
   "cell_type": "code",
   "execution_count": 11,
   "metadata": {},
   "outputs": [],
   "source": [
    "import numpy\n",
    "import os   \n",
    "import sys\n",
    "import numpy as np #Numerical Python\n",
    "import matplotlib.pyplot as plt "
   ]
  },
  {
   "cell_type": "markdown",
   "metadata": {},
   "source": [
    "### Open and explore  data file\n",
    "\n",
    "The file, named catalog_exoplanets_nasa.csv, is already in the data directory. Define work, data and results directories, then open the file.\n",
    "Open it and look how many lines are there, check if there are headers etc...\n",
    "How many columns are there? "
   ]
  },
  {
   "cell_type": "code",
   "execution_count": 12,
   "metadata": {},
   "outputs": [
    {
     "name": "stdout",
     "output_type": "stream",
     "text": [
      "I am in dir /home/jovyan/astrophysics_2023/homework/homework-01---data-input-output-with-python-hussainkitagawa/exercises\n",
      "Main directory is /home/jovyan/astrophysics_2023/homework/homework-01---data-input-output-with-python-hussainkitagawa\n",
      "data dir is /home/jovyan/astrophysics_2023/homework/homework-01---data-input-output-with-python-hussainkitagawa/data\n"
     ]
    }
   ],
   "source": [
    "# Let's define te directory where you are with the \"get current working directory\" command...\n",
    "work_dir = os.getcwd()\n",
    "print(\"I am in dir %s\" % work_dir)\n",
    "\n",
    "#We can go up by using the path.dirname\n",
    "main_dir =os.path.dirname(work_dir)\n",
    "print(\"Main directory is %s\" % main_dir)\n",
    "\n",
    "#We can then define the data directory using the os.path.join command\n",
    "data_dir = os.path.join(main_dir,\"data\")\n",
    "print(\"data dir is %s\" % data_dir)\n",
    "\n",
    "#..and we can define some output directory with the results\n",
    "results_dir = os.path.join(main_dir,\"results\")\n",
    "\n",
    "#if the directory does not exist, you can create it...\n",
    "if not os.path.exists(results_dir):\n",
    "    os.mkdir(results_dir)\n",
    "    print(\"Directory %s created !\" % results_dir)"
   ]
  },
  {
   "cell_type": "markdown",
   "metadata": {},
   "source": [
    "### Save in a list of arrays\n",
    "\n",
    "Read the data file and for each column create a numpy array. \n",
    "Some quantities are not expressed in SI Units. Can you convert them, e.g. from AU to m, or from years to seconds?"
   ]
  },
  {
   "cell_type": "code",
   "execution_count": 13,
   "metadata": {},
   "outputs": [
    {
     "name": "stdout",
     "output_type": "stream",
     "text": [
      "** Total lines in file = 3985\n",
      "** File contains 74 data lines\n",
      "** header contains 143 columns\n",
      "['rowid', 'pl_hostname', 'pl_letter', 'pl_name', 'pl_discmethod', 'pl_pnum', 'pl_orbper', 'pl_orbsmax', 'pl_orbeccen', 'pl_orbincl', 'pl_bmassj', 'pl_bmassprov', 'pl_radj', 'pl_dens', 'pl_ttvflag', 'pl_kepflag', 'pl_k2flag', 'pl_nnotes', 'ra_str', 'ra', 'dec_str', 'dec', 'st_dist', 'st_optmag', 'st_optband', 'gaia_gmag', 'st_teff', 'st_mass', 'st_rad', 'rowupdate', 'pl_tranflag', 'pl_rvflag', 'pl_imgflag', 'pl_astflag', 'pl_omflag', 'pl_cbflag', 'pl_angsep', 'pl_orbtper', 'pl_orblper', 'pl_rvamp', 'pl_eqt', 'pl_insol', 'pl_massj', 'pl_msinij', 'pl_masse', 'pl_msinie', 'pl_bmasse', 'pl_rade', 'pl_rads', 'pl_trandep', 'pl_trandur', 'pl_tranmid', 'pl_tsystemref', 'pl_imppar', 'pl_occdep', 'pl_ratdor', 'pl_ratror', 'pl_def_reflink', 'pl_disc', 'pl_disc_reflink', 'pl_locale', 'pl_facility', 'pl_telescope', 'pl_instrument', 'pl_status', 'pl_mnum', 'pl_st_npar', 'pl_st_nref', 'pl_pelink', 'pl_edelink', 'pl_publ_date', 'hd_name', 'hip_name', 'st_rah', 'st_glon', 'st_glat', 'st_elon', 'st_elat', 'st_plx', 'gaia_plx', 'gaia_dist', 'st_pmra', 'st_pmdec', 'st_pm', 'gaia_pmra', 'gaia_pmdec', 'gaia_pm', 'st_radv', 'st_sp', 'st_spstr', 'st_logg', 'st_lum', 'st_dens', 'st_metfe', 'st_metratio', 'st_age', 'st_vsini', 'st_acts', 'st_actr', 'st_actlx', 'swasp_id', 'st_nts', 'st_nplc', 'st_nglc', 'st_nrvc', 'st_naxa', 'st_nimg', 'st_nspec', 'st_uj', 'st_vj', 'st_bj', 'st_rc', 'st_ic', 'st_j', 'st_h', 'st_k', 'st_wise1', 'st_wise2', 'st_wise3', 'st_wise4', 'st_irac1', 'st_irac2', 'st_irac3', 'st_irac4', 'st_mips1', 'st_mips2', 'st_mips3', 'st_iras1', 'st_iras2', 'st_iras3', 'st_iras4', 'st_photn', 'st_umbj', 'st_bmvj', 'st_vjmic', 'st_vjmrc', 'st_jmh2', 'st_hmk2', 'st_jmk2', 'st_bmy', 'st_m1', 'st_c1', 'st_colorn']\n"
     ]
    }
   ],
   "source": [
    "#File name in data direcory\n",
    "data_filename = \"catalog_exoplanets_nasa.csv\"\n",
    "#Read file\n",
    "data_filename = open(os.path.join(data_dir,data_filename),\"r\")  #r means reading mode\n",
    "\n",
    "#Readlines: a list with a line each\n",
    "divine_lines = data_filename.readlines()\n",
    "\n",
    "#count total line in file\n",
    "total = len(divine_lines)\n",
    "print(\"** Total lines in file = %d\" % total)\n",
    "\n",
    "#print the first 20 lines\n",
    "#print(divine_lines[0:20])\n",
    "\n",
    "\n",
    "#loop for the first 10 lines; the line number; the length of each line and the line content \n",
    "#for li in range(10):\n",
    "    #print(li,len(divine_lines[li]),divine_lines[li])\n",
    "\n",
    "\n",
    "#loop for the first 10 lines: create an output list with only the lines that we want\n",
    "out_list=[]\n",
    "#for li in range(10): #read first 10 lines\n",
    "for li in range(220):# read all lines\n",
    "    line = divine_lines[li].strip(\"\\n\")\n",
    "    if (len(line)>0): #check if value exist\n",
    "        #comments lines start with #\n",
    "        if (line[0]!=\"#\"):\n",
    "          #print(line)\n",
    "          out_list.append(line)\n",
    "\n",
    "print(\"** File contains %d data lines\" % len(out_list))\n",
    "\n",
    "#use the first line as header containing the column names\n",
    "header = out_list[0]\n",
    "column_names = header.split(\",\")\n",
    "print(\"** header contains %d columns\" % len(column_names))\n",
    "print(column_names)\n",
    "\n",
    "#create and init a dictionary of lists:\n",
    "data_dict={}\n",
    "for ci in range(len(column_names)):\n",
    "    data_dict[column_names[ci]]=[]\n",
    "\n",
    "\n",
    "#start from index 1 (skip the first line containing the headers)\n",
    "for ri in range(1,len(out_list)):\n",
    "    data_line = out_list[ri].split(\",\")\n",
    "    #print(\"Processing row %d\" % ri)\n",
    "    for ci in range(len(column_names)):\n",
    "        val = data_line[ci]\n",
    "        #Row ID\n",
    "        #if  column_names[ci] ==  \"rowid\":\n",
    "            #print('rowid = ', val)\n",
    "        #check if string is empty\n",
    "        if data_line[ci] == \"\": \n",
    "            data_line[ci] = '0' #fill 0\n",
    "            val = int(data_line[ci])\n",
    "            \n",
    "        #Change the unit;            \n",
    "        if column_names[ci] == \"pl_orbper\": # Orbital Period [days]\n",
    "            val = float(data_line[ci])*60*60*24 #day -> second\n",
    "            #print('pl_orbper = ', val)\n",
    "        if column_names[ci] == \"pl_massj\": # Planet mass (Jupiter mass)\n",
    "            val = float(data_line[ci])*1.898*10**27 #in kg\n",
    "            #print('pl_massj = ', val)\n",
    "        if column_names[ci] == \"pl_masse\": # Planet mass (Earth mass)\n",
    "            val = float(data_line[ci])*5.972168*10*24 #in kg \n",
    "            #print('pl_masse = ', val)  \n",
    "        if column_names[ci] == \"pl_rade\": # Planet radius (Earth radius)\n",
    "            val = float(data_line[ci])*6378*10**3 #in meter\n",
    "            #print('pl_rade = ', val)\n",
    "        if column_names[ci] == \"pl_ratdor\": # Ratio of Distance to Stellar Radius\n",
    "            val = float(data_line[ci])\n",
    "            #print('pl_ratdor = ', val)\n",
    "            \n",
    "        data_dict[column_names[ci]].append(val)\n",
    "\n",
    "#print pl_hostname\n",
    "#print(data_dict[\"pl_massj\"])   "
   ]
  },
  {
   "cell_type": "markdown",
   "metadata": {},
   "source": [
    "### Do some plotting\n",
    "\n",
    "Choose few quantities and make a scatter plot and a histogram."
   ]
  },
  {
   "cell_type": "code",
   "execution_count": 15,
   "metadata": {},
   "outputs": [
    {
     "data": {
      "image/png": "[encoded data removed]",
      "text/plain": [
       "<Figure size 640x480 with 1 Axes>"
      ]
     },
     "metadata": {},
     "output_type": "display_data"
    }
   ],
   "source": [
    "#convert list to numpy arrays\n",
    "data_dict[\"pl_orbper\"]=np.asarray(data_dict[\"pl_orbper\"])# Orbital Period [days]\n",
    "data_dict[\"pl_massj\"]=np.asarray(data_dict[\"pl_massj\"])# Planet mass (Jupiter mass)\n",
    "data_dict[\"pl_masse\"]=np.asarray(data_dict[\"pl_masse\"])# Planet mass (Earth mass)\n",
    "data_dict[\"pl_rade\"]=np.asarray(data_dict[\"pl_rade\"])# Planet radius (Earth radius)\n",
    "data_dict[\"pl_ratdor\"]=np.asarray(data_dict[\"pl_ratdor\"])# Ratio of Distance to Stellar Radius\n",
    "\n",
    "#scatter plot\n",
    "plt.scatter(data_dict[\"pl_masse\"],data_dict[\"pl_rade\"],marker=\"o\",color=\"red\",)\n",
    "plt.xlabel(\"Planet mass [kg]\")\n",
    "plt.ylabel(\"Planet radius [m]\")\n",
    "\n",
    "save_fig = os.path.join(results_dir, 'Planet_mass_radius.png')\n",
    "plt.savefig(save_fig)"
   ]
  },
  {
   "cell_type": "code",
   "execution_count": 16,
   "metadata": {},
   "outputs": [
    {
     "data": {
      "image/png": "[encoded data removed]",
      "text/plain": [
       "<Figure size 640x480 with 1 Axes>"
      ]
     },
     "metadata": {},
     "output_type": "display_data"
    }
   ],
   "source": [
    "#histograms\n",
    "plt.hist(data_dict[\"pl_massj\"])\n",
    "plt.ylabel(\"N/bins\")\n",
    "plt.xlabel(\"Planet mass [kg]\")\n",
    "save_fig = os.path.join(results_dir, 'Planet_mass.png')\n",
    "plt.savefig(save_fig)"
   ]
  },
  {
   "cell_type": "markdown",
   "metadata": {},
   "source": [
    "### Save in an output file\n",
    "\n",
    "Are you able to save the data in a more readable file? I.e. a file with no comments and just the headers. Is the data in SI format?"
   ]
  },
  {
   "cell_type": "code",
   "execution_count": 17,
   "metadata": {},
   "outputs": [],
   "source": [
    "#define the filename, use the results path\n",
    "test_out_filename = os.path.join(results_dir,\"catalog_exoplanets_nasa.txt\")\n",
    "\n",
    "#use the open command\n",
    "test_out_file = open(test_out_filename,\"w\")  #writing mode\n",
    "\n",
    "#wrtite in output_file\n",
    "for i in range(len(out_list)):\n",
    "    test_out_file.write(out_list[i])  \n",
    "    \n",
    "#IMPORTANT: don't forget to close the file!\n",
    "test_out_file.close()"
   ]
  },
  {
   "cell_type": "markdown",
   "metadata": {},
   "source": [
    "### Final steps\n",
    "Congratulations! Don't forget to save your work to Github (using git commit + git push)"
   ]
  }
 ],
 "metadata": {
  "colab": {
   "name": "exercise1-read-csv.ipynb",
   "provenance": []
  },
  "kernelspec": {
   "display_name": "Python 3 (ipykernel)",
   "language": "python",
   "name": "python3"
  },
  "language_info": {
   "codemirror_mode": {
    "name": "ipython",
    "version": 3
   },
   "file_extension": ".py",
   "mimetype": "text/x-python",
   "name": "python",
   "nbconvert_exporter": "python",
   "pygments_lexer": "ipython3",
   "version": "3.8.16"
  }
 },
 "nbformat": 4,
 "nbformat_minor": 4
}
